{
 "cells": [
  {
   "cell_type": "code",
   "execution_count": 7,
   "metadata": {},
   "outputs": [
    {
     "name": "stdout",
     "output_type": "stream",
     "text": [
      "Welcome to the tip calculator\n",
      "Each person have to pay  27.776\n"
     ]
    }
   ],
   "source": [
    "print(\"Welcome to the tip calculator\")\n",
    "Total_bill=float(input(\"what was the total bill ? \"))\n",
    "No_of_people=int(input(\"Number of people in number ? \"))\n",
    "Tip= int(input(\"What percentage of tip you would like to give ? \"))\n",
    "Pay=(Total_bill/No_of_people)+((Total_bill*(Tip/100))/No_of_people)\n",
    "print(\"Each person have to pay \",Pay)"
   ]
  },
  {
   "cell_type": "code",
   "execution_count": 19,
   "metadata": {},
   "outputs": [
    {
     "name": "stdout",
     "output_type": "stream",
     "text": [
      "u\n",
      "l\n",
      "<class 'str'>\n",
      "12434\n",
      "PI : 3.1416\n"
     ]
    }
   ],
   "source": [
    "# Data types\n",
    "Name = \"Sushil\"\n",
    "print(Name[1])\n",
    "print(Name[-1])\n",
    "a=\"123\" + \"344\"\n",
    "print(type(a))\n",
    "# intergers \n",
    "print(124_34)\n",
    "# it removes the_ and only display the other number\n",
    "float \n",
    "# 3.13154\n",
    "pi=3.1416\n",
    "print(\"PI :\",pi )\n",
    "\n",
    "# boolean\n",
    "# True False"
   ]
  },
  {
   "cell_type": "code",
   "execution_count": 6,
   "metadata": {},
   "outputs": [
    {
     "name": "stdout",
     "output_type": "stream",
     "text": [
      "Welcome to The tip Calculator\n",
      "Each person should pay :  28\n"
     ]
    }
   ],
   "source": [
    "# welcome to tip calculator\n",
    "print(\"Welcome to The tip Calculator\")\n",
    "bill=float(input(\"what was the total bille ?\"))\n",
    "no_of_people=int(input(\"How many People to split the bills ?\"))\n",
    "percent=int(input(\"What percentage tip would you like to give ? 10,12 or 15?\"))\n",
    "eachp=bill/no_of_people\n",
    "pay= ((bill)/no_of_people)+ (eachp* (percent/100));\n",
    "print(\"Each person should pay : $\" , pay);"
   ]
  },
  {
   "cell_type": "code",
   "execution_count": 16,
   "metadata": {},
   "outputs": [
    {
     "name": "stdout",
     "output_type": "stream",
     "text": [
      "e\n",
      "hello world\n",
      "hello\n",
      "hlo\n",
      "34234000\n"
     ]
    }
   ],
   "source": [
    "# string \n",
    "message = \"hello world\"\n",
    "print(message[1])\n",
    "print(message[::])\n",
    "print(message[0:5])\n",
    "# let jump also\n",
    "print(message[0:5:2]);\n",
    "print(34_234_000)\n",
    "# it will remove the _ as , in the number\n",
    "\n",
    "# Boolean\n",
    "# True and False\n"
   ]
  },
  {
   "cell_type": "code",
   "execution_count": 24,
   "metadata": {},
   "outputs": [
    {
     "name": "stdout",
     "output_type": "stream",
     "text": [
      "your name have total  6  character\n",
      "<class 'str'>\n",
      "<class 'int'>\n"
     ]
    }
   ],
   "source": [
    "name = input(\"Enter your name ?\")\n",
    "print(\"your name have total \",len(name),\" character\")\n",
    "print(type(name))\n",
    "print(type(len(name)))"
   ]
  },
  {
   "cell_type": "code",
   "execution_count": 29,
   "metadata": {},
   "outputs": [
    {
     "name": "stdout",
     "output_type": "stream",
     "text": [
      "<class 'str'>\n",
      "20\n",
      "<class 'int'>\n",
      "<class 'float'>\n"
     ]
    }
   ],
   "source": [
    "# Typecasting \n",
    "# lets change the number into character\n",
    "num =20;\n",
    "new_num=str(num)\n",
    "print(type(new_num))\n",
    "# into the int\n",
    "new_num2=int(new_num)\n",
    "print(new_num)\n",
    "print(type(new_num2))\n",
    "# to float\n",
    "new_num1=float(num)\n",
    "print(type(new_num1))\n"
   ]
  },
  {
   "cell_type": "code",
   "execution_count": 34,
   "metadata": {},
   "outputs": [
    {
     "name": "stdout",
     "output_type": "stream",
     "text": [
      "123.0\n",
      "<class 'float'>\n",
      "23434\n",
      "3\n"
     ]
    }
   ],
   "source": [
    "# typecasting 2 \n",
    "a= float(123)\n",
    "print(a)\n",
    "print(type(a))\n",
    "b= 234\n",
    "c=34\n",
    "# let perform concatenation of b and c\n",
    "print(str(b) +str(c))\n",
    "# it should print 23434\n",
    "\n",
    "gpa= 3.07\n",
    "print(int(gpa))\n",
    "\n"
   ]
  },
  {
   "cell_type": "code",
   "execution_count": 39,
   "metadata": {},
   "outputs": [
    {
     "name": "stdout",
     "output_type": "stream",
     "text": [
      "The value of the two number sum is 5\n"
     ]
    }
   ],
   "source": [
    "# challenge\n",
    "value=input(\"Enter the number of 2 digit number : ? \")\n",
    "# it is in string now let split it\n",
    "value1 = value[0]\n",
    "value2=value[1]\n",
    "print(\"The value of the two number sum is\",int(value1)+int(value2))"
   ]
  },
  {
   "cell_type": "code",
   "execution_count": 43,
   "metadata": {},
   "outputs": [
    {
     "name": "stdout",
     "output_type": "stream",
     "text": [
      "512\n",
      "25\n",
      "33\n"
     ]
    }
   ],
   "source": [
    "\"\"\" \n",
    "addition +\n",
    "substraction -\n",
    "multiply *\n",
    "div ( it will return the value in float)\n",
    "exponent **\n",
    " \n",
    "\"\"\"\n",
    "# find the cude of 8;\n",
    "print(8**3)\n",
    "#  square of 5\n",
    "print(5**2)\n",
    "# percedence\n",
    "\"\"\" priority : \n",
    "()          -> parenthesis\n",
    "**          ->exponent\n",
    "/ & *        ->div and multiply (same level) -> (flow : left to right)\n",
    "+ & -        -> same level -> (left to right)\n",
    "\n",
    "\"\"\"\n",
    "# let evaluate\n",
    "a= 5\n",
    "b=3\n",
    "result = (a+b)+a**2 # 8 + 25 = 33\n",
    "print(\"The result is \" ,result)\n"
   ]
  },
  {
   "cell_type": "code",
   "execution_count": 45,
   "metadata": {},
   "outputs": [],
   "source": [
    "evaluate = 3*3+3/3-3 # to see how it work use thonny\n",
    "# (3*3)=9\n",
    "#(3/3)=1\n",
    "#9+1\n",
    "#10-3=7"
   ]
  },
  {
   "cell_type": "code",
   "execution_count": null,
   "metadata": {},
   "outputs": [],
   "source": [
    "# \n"
   ]
  }
 ],
 "metadata": {
  "kernelspec": {
   "display_name": "Python 3",
   "language": "python",
   "name": "python3"
  },
  "language_info": {
   "codemirror_mode": {
    "name": "ipython",
    "version": 3
   },
   "file_extension": ".py",
   "mimetype": "text/x-python",
   "name": "python",
   "nbconvert_exporter": "python",
   "pygments_lexer": "ipython3",
   "version": "3.10.0"
  },
  "orig_nbformat": 4
 },
 "nbformat": 4,
 "nbformat_minor": 2
}
