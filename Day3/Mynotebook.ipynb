{
 "cells": [
  {
   "cell_type": "code",
   "execution_count": 2,
   "metadata": {},
   "outputs": [
    {
     "name": "stdout",
     "output_type": "stream",
     "text": [
      "Welcome to Day 3 \n",
      "We will cover : \n",
      "logical Operators \n",
      " Code Blocks \n",
      " Scope \n",
      " Scope\n"
     ]
    }
   ],
   "source": [
    "# Welcome to Day 3 \n",
    "day=3\n",
    "king = f\"Welcome to Day {day} \"\n",
    "print(king)\n",
    "# we will cover here Conditional Statement , logical operator , code blocks and Scope\n",
    "arr= [\"Conditional Statement\", \"logical Operators\", \"Code Blocks\",\"Scope\"]\n",
    "# array\n",
    "next = f\"We will cover : \\n{arr[1]} \\n {arr[2]} \\n {arr[3]} \\n {arr[-1]}\";\n",
    "print(next);\n"
   ]
  },
  {
   "cell_type": "code",
   "execution_count": null,
   "metadata": {},
   "outputs": [],
   "source": [
    "# First of all we have too know the basis \n",
    "#while coding the indentation is important in python\n",
    "# so let code \n"
   ]
  },
  {
   "cell_type": "code",
   "execution_count": 6,
   "metadata": {},
   "outputs": [
    {
     "name": "stdout",
     "output_type": "stream",
     "text": [
      "you are not eligible for Voting\n"
     ]
    }
   ],
   "source": [
    "# program to allow for vote if your age is over 18 and you have citizenship\n",
    "age = int(input(\"Enter your age : \"))\n",
    "citizenship =input(\"You have citizenship (yes=True)/(No=False)\")\n",
    "if ((age>18) and (citizenship.capitalize()==\"True\")) :\n",
    "    print(\"you are eligible for voting \")\n",
    "else :\n",
    "    print(\"you are not eligible for Voting\")\n"
   ]
  },
  {
   "cell_type": "code",
   "execution_count": 8,
   "metadata": {},
   "outputs": [
    {
     "name": "stdout",
     "output_type": "stream",
     "text": [
      "Water drains out \n"
     ]
    }
   ],
   "source": [
    "# write the program bathtub program where if water is greater or equal to 80 litres than it leak it else it will \n",
    "#fill the bathtub\n",
    "water= int(input(\"Enter the amount of water in litres :\"))\n",
    "if water>= 80 :\n",
    "    print(\"Water drains out \")\n",
    "else:\n",
    "    print(\"water get filled\")"
   ]
  },
  {
   "cell_type": "code",
   "execution_count": 9,
   "metadata": {},
   "outputs": [
    {
     "name": "stdout",
     "output_type": "stream",
     "text": [
      "bulb is glowing \n"
     ]
    }
   ],
   "source": [
    "# write program for the switch off on and bulb will light\n",
    "value =input(\"Enter the switch is on or off\")\n",
    "if ((value==\"on\") or(value==\"ON\")) :\n",
    "    print(\"bulb is glowing \")\n",
    "else :\n",
    "    print(\"Bulb is not glowing \")\n",
    "\n"
   ]
  },
  {
   "cell_type": "code",
   "execution_count": 10,
   "metadata": {},
   "outputs": [
    {
     "name": "stdout",
     "output_type": "stream",
     "text": [
      "\n",
      "Welcome to the Rollercoaster\n",
      "\n",
      "you can ride to the rollercoaster\n"
     ]
    }
   ],
   "source": [
    "# program to get a seat if your height is 120cm\n",
    "print(\"\\nWelcome to the Rollercoaster\\n\")\n",
    "height=int(input(\"What is your height in cm  ?\"))\n",
    "if height>120:\n",
    "    print(\"you can ride to the rollercoaster\")\n",
    "else:\n",
    "    print(\"Sorry ! you have to grow taller before you can ride\")\n",
    "    \n",
    "\n"
   ]
  }
 ],
 "metadata": {
  "kernelspec": {
   "display_name": "Python 3",
   "language": "python",
   "name": "python3"
  },
  "language_info": {
   "codemirror_mode": {
    "name": "ipython",
    "version": 3
   },
   "file_extension": ".py",
   "mimetype": "text/x-python",
   "name": "python",
   "nbconvert_exporter": "python",
   "pygments_lexer": "ipython3",
   "version": "3.10.0"
  },
  "orig_nbformat": 4
 },
 "nbformat": 4,
 "nbformat_minor": 2
}
